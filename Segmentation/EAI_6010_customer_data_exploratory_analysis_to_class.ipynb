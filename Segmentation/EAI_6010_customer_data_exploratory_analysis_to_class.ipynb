{
 "cells": [
  {
   "cell_type": "code",
   "execution_count": 1,
   "metadata": {},
   "outputs": [],
   "source": [
    "import pandas as pd\n",
    "import numpy as np\n",
    "import pandas_profiling\n",
    "from scipy.stats import mode\n",
    "import scipy as sc\n",
    "import seaborn as sns #visualisation\n",
    "import matplotlib.pyplot as plt #visualisation\n",
    "%matplotlib inline \n",
    "sns.set(color_codes=True)\n",
    "import tensorflow as tf\n",
    "from sklearn import metrics\n",
    "from sklearn.cluster import KMeans\n",
    "from sklearn.datasets import load_digits\n",
    "from sklearn.decomposition import PCA\n",
    "from sklearn.preprocessing import scale\n",
    "from sklearn.preprocessing import LabelEncoder\n",
    "from sklearn.preprocessing import MinMaxScaler"
   ]
  },
  {
   "cell_type": "code",
   "execution_count": 2,
   "metadata": {},
   "outputs": [
    {
     "data": {
      "text/plain": [
       "'0.25.1'"
      ]
     },
     "execution_count": 2,
     "metadata": {},
     "output_type": "execute_result"
    }
   ],
   "source": [
    "pd.__version__"
   ]
  },
  {
   "cell_type": "code",
   "execution_count": 16,
   "metadata": {},
   "outputs": [],
   "source": [
    "#To force pyhton to show all output instead of the last output only\n",
    "from IPython.core.interactiveshell import InteractiveShell\n",
    "InteractiveShell.ast_node_interactivity = \"all\""
   ]
  },
  {
   "cell_type": "code",
   "execution_count": 4,
   "metadata": {},
   "outputs": [],
   "source": [
    "#Read the csv file\n",
    "cust_df = pd.read_csv('<...>'')"
   ]
  },
  {
   "cell_type": "code",
   "execution_count": 17,
   "metadata": {},
   "outputs": [
    {
     "data": {
      "text/html": [
       "<div>\n",
       "<style scoped>\n",
       "    .dataframe tbody tr th:only-of-type {\n",
       "        vertical-align: middle;\n",
       "    }\n",
       "\n",
       "    .dataframe tbody tr th {\n",
       "        vertical-align: top;\n",
       "    }\n",
       "\n",
       "    .dataframe thead th {\n",
       "        text-align: right;\n",
       "    }\n",
       "</style>\n",
       "<table border=\"1\" class=\"dataframe\">\n",
       "  <thead>\n",
       "    <tr style=\"text-align: right;\">\n",
       "      <th></th>\n",
       "      <th>Region</th>\n",
       "      <th>TownSize</th>\n",
       "      <th>Gender</th>\n",
       "      <th>Age</th>\n",
       "      <th>EducationYears</th>\n",
       "      <th>JobCategory</th>\n",
       "      <th>UnionMember</th>\n",
       "      <th>EmploymentLength</th>\n",
       "      <th>Retired</th>\n",
       "      <th>HHIncome</th>\n",
       "      <th>...</th>\n",
       "      <th>CallWait</th>\n",
       "      <th>CallForward</th>\n",
       "      <th>ThreeWayCalling</th>\n",
       "      <th>EBilling</th>\n",
       "      <th>TVWatchingHours</th>\n",
       "      <th>OwnsPC</th>\n",
       "      <th>OwnsMobileDevice</th>\n",
       "      <th>OwnsGameSystem</th>\n",
       "      <th>OwnsFax</th>\n",
       "      <th>NewsSubscriber</th>\n",
       "    </tr>\n",
       "    <tr>\n",
       "      <th>CustomerID</th>\n",
       "      <th></th>\n",
       "      <th></th>\n",
       "      <th></th>\n",
       "      <th></th>\n",
       "      <th></th>\n",
       "      <th></th>\n",
       "      <th></th>\n",
       "      <th></th>\n",
       "      <th></th>\n",
       "      <th></th>\n",
       "      <th></th>\n",
       "      <th></th>\n",
       "      <th></th>\n",
       "      <th></th>\n",
       "      <th></th>\n",
       "      <th></th>\n",
       "      <th></th>\n",
       "      <th></th>\n",
       "      <th></th>\n",
       "      <th></th>\n",
       "      <th></th>\n",
       "    </tr>\n",
       "  </thead>\n",
       "  <tbody>\n",
       "    <tr>\n",
       "      <td>3964-QJWTRG-NPN</td>\n",
       "      <td>1</td>\n",
       "      <td>2</td>\n",
       "      <td>Female</td>\n",
       "      <td>20</td>\n",
       "      <td>15</td>\n",
       "      <td>Professional</td>\n",
       "      <td>Yes</td>\n",
       "      <td>0</td>\n",
       "      <td>No</td>\n",
       "      <td>$31,000.00</td>\n",
       "      <td>...</td>\n",
       "      <td>Yes</td>\n",
       "      <td>Yes</td>\n",
       "      <td>Yes</td>\n",
       "      <td>No</td>\n",
       "      <td>13</td>\n",
       "      <td>No</td>\n",
       "      <td>Yes</td>\n",
       "      <td>Yes</td>\n",
       "      <td>No</td>\n",
       "      <td>No</td>\n",
       "    </tr>\n",
       "    <tr>\n",
       "      <td>0648-AIPJSP-UVM</td>\n",
       "      <td>5</td>\n",
       "      <td>5</td>\n",
       "      <td>Male</td>\n",
       "      <td>22</td>\n",
       "      <td>17</td>\n",
       "      <td>Sales</td>\n",
       "      <td>No</td>\n",
       "      <td>0</td>\n",
       "      <td>No</td>\n",
       "      <td>$15,000.00</td>\n",
       "      <td>...</td>\n",
       "      <td>No</td>\n",
       "      <td>Yes</td>\n",
       "      <td>No</td>\n",
       "      <td>Yes</td>\n",
       "      <td>18</td>\n",
       "      <td>Yes</td>\n",
       "      <td>Yes</td>\n",
       "      <td>Yes</td>\n",
       "      <td>Yes</td>\n",
       "      <td>Yes</td>\n",
       "    </tr>\n",
       "    <tr>\n",
       "      <td>5195-TLUDJE-HVO</td>\n",
       "      <td>3</td>\n",
       "      <td>4</td>\n",
       "      <td>Female</td>\n",
       "      <td>67</td>\n",
       "      <td>14</td>\n",
       "      <td>Sales</td>\n",
       "      <td>No</td>\n",
       "      <td>16</td>\n",
       "      <td>No</td>\n",
       "      <td>$35,000.00</td>\n",
       "      <td>...</td>\n",
       "      <td>No</td>\n",
       "      <td>No</td>\n",
       "      <td>No</td>\n",
       "      <td>No</td>\n",
       "      <td>21</td>\n",
       "      <td>No</td>\n",
       "      <td>No</td>\n",
       "      <td>No</td>\n",
       "      <td>No</td>\n",
       "      <td>Yes</td>\n",
       "    </tr>\n",
       "    <tr>\n",
       "      <td>4459-VLPQUH-3OL</td>\n",
       "      <td>4</td>\n",
       "      <td>3</td>\n",
       "      <td>Male</td>\n",
       "      <td>23</td>\n",
       "      <td>16</td>\n",
       "      <td>Sales</td>\n",
       "      <td>No</td>\n",
       "      <td>0</td>\n",
       "      <td>No</td>\n",
       "      <td>$20,000.00</td>\n",
       "      <td>...</td>\n",
       "      <td>No</td>\n",
       "      <td>No</td>\n",
       "      <td>No</td>\n",
       "      <td>Yes</td>\n",
       "      <td>26</td>\n",
       "      <td>Yes</td>\n",
       "      <td>Yes</td>\n",
       "      <td>Yes</td>\n",
       "      <td>No</td>\n",
       "      <td>Yes</td>\n",
       "    </tr>\n",
       "    <tr>\n",
       "      <td>8158-SMTQFB-CNO</td>\n",
       "      <td>2</td>\n",
       "      <td>2</td>\n",
       "      <td>Male</td>\n",
       "      <td>26</td>\n",
       "      <td>16</td>\n",
       "      <td>Sales</td>\n",
       "      <td>No</td>\n",
       "      <td>1</td>\n",
       "      <td>No</td>\n",
       "      <td>$23,000.00</td>\n",
       "      <td>...</td>\n",
       "      <td>Yes</td>\n",
       "      <td>Yes</td>\n",
       "      <td>Yes</td>\n",
       "      <td>No</td>\n",
       "      <td>27</td>\n",
       "      <td>Yes</td>\n",
       "      <td>No</td>\n",
       "      <td>Yes</td>\n",
       "      <td>No</td>\n",
       "      <td>No</td>\n",
       "    </tr>\n",
       "  </tbody>\n",
       "</table>\n",
       "<p>5 rows × 58 columns</p>\n",
       "</div>"
      ],
      "text/plain": [
       "                 Region TownSize  Gender  Age  EducationYears   JobCategory  \\\n",
       "CustomerID                                                                    \n",
       "3964-QJWTRG-NPN       1        2  Female   20              15  Professional   \n",
       "0648-AIPJSP-UVM       5        5    Male   22              17         Sales   \n",
       "5195-TLUDJE-HVO       3        4  Female   67              14         Sales   \n",
       "4459-VLPQUH-3OL       4        3    Male   23              16         Sales   \n",
       "8158-SMTQFB-CNO       2        2    Male   26              16         Sales   \n",
       "\n",
       "                UnionMember  EmploymentLength Retired      HHIncome  ...  \\\n",
       "CustomerID                                                           ...   \n",
       "3964-QJWTRG-NPN         Yes                 0      No   $31,000.00   ...   \n",
       "0648-AIPJSP-UVM          No                 0      No   $15,000.00   ...   \n",
       "5195-TLUDJE-HVO          No                16      No   $35,000.00   ...   \n",
       "4459-VLPQUH-3OL          No                 0      No   $20,000.00   ...   \n",
       "8158-SMTQFB-CNO          No                 1      No   $23,000.00   ...   \n",
       "\n",
       "                 CallWait  CallForward  ThreeWayCalling EBilling  \\\n",
       "CustomerID                                                         \n",
       "3964-QJWTRG-NPN       Yes          Yes              Yes       No   \n",
       "0648-AIPJSP-UVM        No          Yes               No      Yes   \n",
       "5195-TLUDJE-HVO        No           No               No       No   \n",
       "4459-VLPQUH-3OL        No           No               No      Yes   \n",
       "8158-SMTQFB-CNO       Yes          Yes              Yes       No   \n",
       "\n",
       "                TVWatchingHours  OwnsPC  OwnsMobileDevice  OwnsGameSystem  \\\n",
       "CustomerID                                                                  \n",
       "3964-QJWTRG-NPN              13      No               Yes             Yes   \n",
       "0648-AIPJSP-UVM              18     Yes               Yes             Yes   \n",
       "5195-TLUDJE-HVO              21      No                No              No   \n",
       "4459-VLPQUH-3OL              26     Yes               Yes             Yes   \n",
       "8158-SMTQFB-CNO              27     Yes                No             Yes   \n",
       "\n",
       "                 OwnsFax  NewsSubscriber  \n",
       "CustomerID                                \n",
       "3964-QJWTRG-NPN       No              No  \n",
       "0648-AIPJSP-UVM      Yes             Yes  \n",
       "5195-TLUDJE-HVO       No             Yes  \n",
       "4459-VLPQUH-3OL       No             Yes  \n",
       "8158-SMTQFB-CNO       No              No  \n",
       "\n",
       "[5 rows x 58 columns]"
      ]
     },
     "execution_count": 17,
     "metadata": {},
     "output_type": "execute_result"
    },
    {
     "data": {
      "text/html": [
       "<div>\n",
       "<style scoped>\n",
       "    .dataframe tbody tr th:only-of-type {\n",
       "        vertical-align: middle;\n",
       "    }\n",
       "\n",
       "    .dataframe tbody tr th {\n",
       "        vertical-align: top;\n",
       "    }\n",
       "\n",
       "    .dataframe thead th {\n",
       "        text-align: right;\n",
       "    }\n",
       "</style>\n",
       "<table border=\"1\" class=\"dataframe\">\n",
       "  <thead>\n",
       "    <tr style=\"text-align: right;\">\n",
       "      <th></th>\n",
       "      <th>Region</th>\n",
       "      <th>TownSize</th>\n",
       "      <th>Gender</th>\n",
       "      <th>Age</th>\n",
       "      <th>EducationYears</th>\n",
       "      <th>JobCategory</th>\n",
       "      <th>UnionMember</th>\n",
       "      <th>EmploymentLength</th>\n",
       "      <th>Retired</th>\n",
       "      <th>HHIncome</th>\n",
       "      <th>...</th>\n",
       "      <th>CallWait</th>\n",
       "      <th>CallForward</th>\n",
       "      <th>ThreeWayCalling</th>\n",
       "      <th>EBilling</th>\n",
       "      <th>TVWatchingHours</th>\n",
       "      <th>OwnsPC</th>\n",
       "      <th>OwnsMobileDevice</th>\n",
       "      <th>OwnsGameSystem</th>\n",
       "      <th>OwnsFax</th>\n",
       "      <th>NewsSubscriber</th>\n",
       "    </tr>\n",
       "    <tr>\n",
       "      <th>CustomerID</th>\n",
       "      <th></th>\n",
       "      <th></th>\n",
       "      <th></th>\n",
       "      <th></th>\n",
       "      <th></th>\n",
       "      <th></th>\n",
       "      <th></th>\n",
       "      <th></th>\n",
       "      <th></th>\n",
       "      <th></th>\n",
       "      <th></th>\n",
       "      <th></th>\n",
       "      <th></th>\n",
       "      <th></th>\n",
       "      <th></th>\n",
       "      <th></th>\n",
       "      <th></th>\n",
       "      <th></th>\n",
       "      <th></th>\n",
       "      <th></th>\n",
       "      <th></th>\n",
       "    </tr>\n",
       "  </thead>\n",
       "  <tbody>\n",
       "    <tr>\n",
       "      <td>3675-GZFGOT-QJN</td>\n",
       "      <td>2</td>\n",
       "      <td>2</td>\n",
       "      <td>Male</td>\n",
       "      <td>68</td>\n",
       "      <td>10</td>\n",
       "      <td>Professional</td>\n",
       "      <td>No</td>\n",
       "      <td>24</td>\n",
       "      <td>No</td>\n",
       "      <td>$196,000.00</td>\n",
       "      <td>...</td>\n",
       "      <td>No</td>\n",
       "      <td>No</td>\n",
       "      <td>No</td>\n",
       "      <td>No</td>\n",
       "      <td>19</td>\n",
       "      <td>No</td>\n",
       "      <td>No</td>\n",
       "      <td>No</td>\n",
       "      <td>No</td>\n",
       "      <td>Yes</td>\n",
       "    </tr>\n",
       "    <tr>\n",
       "      <td>4699-LEPCCE-3UD</td>\n",
       "      <td>3</td>\n",
       "      <td>3</td>\n",
       "      <td>Male</td>\n",
       "      <td>51</td>\n",
       "      <td>14</td>\n",
       "      <td>Professional</td>\n",
       "      <td>No</td>\n",
       "      <td>6</td>\n",
       "      <td>No</td>\n",
       "      <td>$83,000.00</td>\n",
       "      <td>...</td>\n",
       "      <td>Yes</td>\n",
       "      <td>Yes</td>\n",
       "      <td>Yes</td>\n",
       "      <td>No</td>\n",
       "      <td>14</td>\n",
       "      <td>No</td>\n",
       "      <td>No</td>\n",
       "      <td>No</td>\n",
       "      <td>No</td>\n",
       "      <td>No</td>\n",
       "    </tr>\n",
       "    <tr>\n",
       "      <td>8485-LLUICH-CVV</td>\n",
       "      <td>4</td>\n",
       "      <td>5</td>\n",
       "      <td>Male</td>\n",
       "      <td>75</td>\n",
       "      <td>17</td>\n",
       "      <td>Professional</td>\n",
       "      <td>No</td>\n",
       "      <td>24</td>\n",
       "      <td>No</td>\n",
       "      <td>$108,000.00</td>\n",
       "      <td>...</td>\n",
       "      <td>Yes</td>\n",
       "      <td>Yes</td>\n",
       "      <td>Yes</td>\n",
       "      <td>No</td>\n",
       "      <td>16</td>\n",
       "      <td>No</td>\n",
       "      <td>No</td>\n",
       "      <td>No</td>\n",
       "      <td>No</td>\n",
       "      <td>Yes</td>\n",
       "    </tr>\n",
       "    <tr>\n",
       "      <td>9325-URAAUT-7FA</td>\n",
       "      <td>1</td>\n",
       "      <td>1</td>\n",
       "      <td>Male</td>\n",
       "      <td>47</td>\n",
       "      <td>19</td>\n",
       "      <td>Sales</td>\n",
       "      <td>No</td>\n",
       "      <td>3</td>\n",
       "      <td>No</td>\n",
       "      <td>$189,000.00</td>\n",
       "      <td>...</td>\n",
       "      <td>No</td>\n",
       "      <td>No</td>\n",
       "      <td>No</td>\n",
       "      <td>Yes</td>\n",
       "      <td>24</td>\n",
       "      <td>Yes</td>\n",
       "      <td>Yes</td>\n",
       "      <td>Yes</td>\n",
       "      <td>No</td>\n",
       "      <td>Yes</td>\n",
       "    </tr>\n",
       "    <tr>\n",
       "      <td>8027-EXDZBF-OGR</td>\n",
       "      <td>3</td>\n",
       "      <td>5</td>\n",
       "      <td>Female</td>\n",
       "      <td>41</td>\n",
       "      <td>10</td>\n",
       "      <td>Crafts</td>\n",
       "      <td>No</td>\n",
       "      <td>20</td>\n",
       "      <td>No</td>\n",
       "      <td>$77,000.00</td>\n",
       "      <td>...</td>\n",
       "      <td>No</td>\n",
       "      <td>No</td>\n",
       "      <td>No</td>\n",
       "      <td>No</td>\n",
       "      <td>19</td>\n",
       "      <td>No</td>\n",
       "      <td>No</td>\n",
       "      <td>No</td>\n",
       "      <td>No</td>\n",
       "      <td>No</td>\n",
       "    </tr>\n",
       "  </tbody>\n",
       "</table>\n",
       "<p>5 rows × 58 columns</p>\n",
       "</div>"
      ],
      "text/plain": [
       "                 Region TownSize  Gender  Age  EducationYears   JobCategory  \\\n",
       "CustomerID                                                                    \n",
       "3675-GZFGOT-QJN       2        2    Male   68              10  Professional   \n",
       "4699-LEPCCE-3UD       3        3    Male   51              14  Professional   \n",
       "8485-LLUICH-CVV       4        5    Male   75              17  Professional   \n",
       "9325-URAAUT-7FA       1        1    Male   47              19         Sales   \n",
       "8027-EXDZBF-OGR       3        5  Female   41              10        Crafts   \n",
       "\n",
       "                UnionMember  EmploymentLength Retired       HHIncome  ...  \\\n",
       "CustomerID                                                            ...   \n",
       "3675-GZFGOT-QJN          No                24      No   $196,000.00   ...   \n",
       "4699-LEPCCE-3UD          No                 6      No    $83,000.00   ...   \n",
       "8485-LLUICH-CVV          No                24      No   $108,000.00   ...   \n",
       "9325-URAAUT-7FA          No                 3      No   $189,000.00   ...   \n",
       "8027-EXDZBF-OGR          No                20      No    $77,000.00   ...   \n",
       "\n",
       "                 CallWait  CallForward  ThreeWayCalling EBilling  \\\n",
       "CustomerID                                                         \n",
       "3675-GZFGOT-QJN        No           No               No       No   \n",
       "4699-LEPCCE-3UD       Yes          Yes              Yes       No   \n",
       "8485-LLUICH-CVV       Yes          Yes              Yes       No   \n",
       "9325-URAAUT-7FA        No           No               No      Yes   \n",
       "8027-EXDZBF-OGR        No           No               No       No   \n",
       "\n",
       "                TVWatchingHours  OwnsPC  OwnsMobileDevice  OwnsGameSystem  \\\n",
       "CustomerID                                                                  \n",
       "3675-GZFGOT-QJN              19      No                No              No   \n",
       "4699-LEPCCE-3UD              14      No                No              No   \n",
       "8485-LLUICH-CVV              16      No                No              No   \n",
       "9325-URAAUT-7FA              24     Yes               Yes             Yes   \n",
       "8027-EXDZBF-OGR              19      No                No              No   \n",
       "\n",
       "                 OwnsFax  NewsSubscriber  \n",
       "CustomerID                                \n",
       "3675-GZFGOT-QJN       No             Yes  \n",
       "4699-LEPCCE-3UD       No              No  \n",
       "8485-LLUICH-CVV       No             Yes  \n",
       "9325-URAAUT-7FA       No             Yes  \n",
       "8027-EXDZBF-OGR       No              No  \n",
       "\n",
       "[5 rows x 58 columns]"
      ]
     },
     "execution_count": 17,
     "metadata": {},
     "output_type": "execute_result"
    }
   ],
   "source": [
    "#Head or printout of the first 5 records\n",
    "cust_df.head(5)\n",
    "cust_df.tail(5)"
   ]
  },
  {
   "cell_type": "code",
   "execution_count": null,
   "metadata": {},
   "outputs": [],
   "source": [
    "#Tail or printout of the last 5 records\n",
    "cust_df.tail(5)"
   ]
  },
  {
   "cell_type": "code",
   "execution_count": null,
   "metadata": {},
   "outputs": [],
   "source": [
    "#Checking customer data types\n",
    "cust_df.dtypes"
   ]
  },
  {
   "cell_type": "code",
   "execution_count": 8,
   "metadata": {},
   "outputs": [
    {
     "name": "stdout",
     "output_type": "stream",
     "text": [
      "There are 5000 rows and 58 columns in the customer dataframe\n"
     ]
    }
   ],
   "source": [
    "#Dimensions of the data and investigate if there are any duplicate rows\n",
    "cust_df.shape\n",
    "print(f'There are {cust_df.shape[0]} rows and {cust_df.shape[1]} columns in the customer dataframe')"
   ]
  },
  {
   "cell_type": "code",
   "execution_count": 15,
   "metadata": {},
   "outputs": [
    {
     "name": "stdout",
     "output_type": "stream",
     "text": [
      "number of duplicate rows: (0, 58)\n",
      "There are 0 number of duplicate rows\n"
     ]
    },
    {
     "data": {
      "text/plain": [
       "(0, 58)"
      ]
     },
     "execution_count": 15,
     "metadata": {},
     "output_type": "execute_result"
    }
   ],
   "source": [
    "#Rows containing duplicate data\n",
    "duplicate_rows_cust_df = cust_df[cust_df.duplicated()]\n",
    "print('number of duplicate rows:', duplicate_rows_cust_df.shape)\n",
    "print(f'There are {len(duplicate_rows_cust_df)} number of duplicate rows')\n",
    "duplicate_rows_cust_df.shape"
   ]
  },
  {
   "cell_type": "code",
   "execution_count": null,
   "metadata": {
    "scrolled": true
   },
   "outputs": [],
   "source": [
    "# Used to count the number of rows before any data manipulation\n",
    "cust_df.count() "
   ]
  },
  {
   "cell_type": "code",
   "execution_count": null,
   "metadata": {},
   "outputs": [],
   "source": [
    "# Dropping the duplicates - not relevant here\n",
    "cust_df = cust_df.drop_duplicates()"
   ]
  },
  {
   "cell_type": "code",
   "execution_count": null,
   "metadata": {
    "scrolled": true
   },
   "outputs": [],
   "source": [
    "# Finding the null values for each column\n",
    "print(cust_df.isnull().sum())"
   ]
  },
  {
   "cell_type": "code",
   "execution_count": null,
   "metadata": {},
   "outputs": [],
   "source": [
    "def num_missing(x):\n",
    "  return sum(x.isnull())\n",
    "#Applying per column:\n",
    "print(cust_df.apply(num_missing, axis=0))"
   ]
  },
  {
   "cell_type": "code",
   "execution_count": null,
   "metadata": {},
   "outputs": [],
   "source": [
    "# Dropping the missing values. Not relevant here\n",
    "# cust_df = cust_df.dropna() \n",
    "# cust_df.count()"
   ]
  },
  {
   "cell_type": "code",
   "execution_count": null,
   "metadata": {},
   "outputs": [],
   "source": [
    "sns.boxplot(x = cust_df['Age'])"
   ]
  },
  {
   "cell_type": "code",
   "execution_count": null,
   "metadata": {},
   "outputs": [],
   "source": [
    "#Calculate summary statistics\n",
    "summary = cust_df.describe()\n",
    "summary = summary.transpose()\n",
    "summary.head()"
   ]
  },
  {
   "cell_type": "code",
   "execution_count": null,
   "metadata": {},
   "outputs": [],
   "source": [
    "#Another way to get meta data for each variable in your dataset\n",
    "cust_df.info() "
   ]
  },
  {
   "cell_type": "code",
   "execution_count": null,
   "metadata": {
    "scrolled": true
   },
   "outputs": [],
   "source": [
    "#Calculate summary statistics\n",
    "summary = cust_df.describe(include=['object'])\n",
    "summary = summary.transpose()\n",
    "summary.head()\n",
    "print(cust_df.describe(include='all'))"
   ]
  },
  {
   "cell_type": "code",
   "execution_count": null,
   "metadata": {
    "scrolled": true
   },
   "outputs": [],
   "source": [
    "#conda install -c conda-forge pandas-profiling -- use this code snippet on your command line to install pandas-profiling \n",
    "#pandas_profiling provides a comprehensive report on the variables and various statistics around it.\n",
    "#It can be fairly overwhelming but is very useful\n",
    "#Do not use with large datasets\n",
    "pandas_profiling.ProfileReport(cust_df)"
   ]
  },
  {
   "cell_type": "code",
   "execution_count": null,
   "metadata": {},
   "outputs": [],
   "source": [
    "#How many missing values does Gender have?\n",
    "cust_df['Gender'].isnull().sum()"
   ]
  },
  {
   "cell_type": "code",
   "execution_count": null,
   "metadata": {},
   "outputs": [],
   "source": [
    "#Another approach to answer the question of \"How many missing values does Gender have?\"\n",
    "cust_df.Gender.isnull().sum()"
   ]
  },
  {
   "cell_type": "code",
   "execution_count": null,
   "metadata": {},
   "outputs": [],
   "source": [
    "#What is the datatype object for Gender. It is defined as a object or a string\n",
    "cust_df['Gender'].dtype"
   ]
  },
  {
   "cell_type": "code",
   "execution_count": null,
   "metadata": {},
   "outputs": [],
   "source": [
    "#Frequency distribution of Gender before imputation of missing values\n",
    "counts_HHSize = cust_df['HouseholdSize'].value_counts()\n",
    "print (\"\\Before imputation for missing values:\")\n",
    "print (counts_HHSize)"
   ]
  },
  {
   "cell_type": "code",
   "execution_count": null,
   "metadata": {},
   "outputs": [],
   "source": [
    "cust_df['HouseholdSize'].isnull().sum()"
   ]
  },
  {
   "cell_type": "code",
   "execution_count": null,
   "metadata": {},
   "outputs": [],
   "source": [
    "mode(cust_df['HouseholdSize'])"
   ]
  },
  {
   "cell_type": "code",
   "execution_count": null,
   "metadata": {},
   "outputs": [],
   "source": [
    "#Replace missing character values with the mode of the distribution \n",
    "#cust_df['HouseholdSize'].fillna(mode(cust_df['HouseholdSize']).mode[0], inplace=True)\n",
    "cust_df['HouseholdSize'].fillna(mode(cust_df['HouseholdSize']).mode[0], inplace=True)                                                \n",
    "cust_df['HouseholdSize'].isnull().sum()"
   ]
  },
  {
   "cell_type": "code",
   "execution_count": null,
   "metadata": {},
   "outputs": [],
   "source": [
    "#Frequency distribution of Gender\n",
    "counts_HouseholdSize = cust_df['HouseholdSize'].value_counts()\n",
    "print (\"\\After imputation for missing values:\")\n",
    "print (counts_HHSize)\n",
    "print (cust_df['HouseholdSize'].isnull().sum())"
   ]
  },
  {
   "cell_type": "code",
   "execution_count": null,
   "metadata": {},
   "outputs": [],
   "source": [
    "cust_df.shape"
   ]
  },
  {
   "cell_type": "code",
   "execution_count": null,
   "metadata": {},
   "outputs": [],
   "source": [
    "cust_df.head(5)"
   ]
  },
  {
   "cell_type": "code",
   "execution_count": null,
   "metadata": {},
   "outputs": [],
   "source": [
    "def coding(col, codeDict):\n",
    "  colCoded = pd.Series(col, copy=True)\n",
    "  for key, value in codeDict.items():\n",
    "    colCoded.replace(key, value, inplace=True)\n",
    "  return colCoded"
   ]
  },
  {
   "cell_type": "code",
   "execution_count": null,
   "metadata": {},
   "outputs": [],
   "source": [
    "cust_df['HHIncome'].apply(type)"
   ]
  },
  {
   "cell_type": "code",
   "execution_count": null,
   "metadata": {},
   "outputs": [],
   "source": [
    "cust_df['HHIncome'].apply(type).value_counts()"
   ]
  },
  {
   "cell_type": "code",
   "execution_count": null,
   "metadata": {},
   "outputs": [],
   "source": [
    "#Custom create function to clean variables with currency symbols\n",
    "def clean_currency(x):\n",
    "    \"\"\" If the value is a string, then remove currency symbol and delimiters\n",
    "    otherwise, the value is numeric and can be converted\n",
    "    \"\"\"\n",
    "    if isinstance(x, str):\n",
    "        return(x.replace('$', '').replace(',', ''))\n",
    "    return(x)"
   ]
  },
  {
   "cell_type": "code",
   "execution_count": null,
   "metadata": {},
   "outputs": [],
   "source": [
    "cust_df['HHIncome'] = cust_df['HHIncome'].apply(clean_currency).astype('float')"
   ]
  },
  {
   "cell_type": "code",
   "execution_count": null,
   "metadata": {
    "scrolled": true
   },
   "outputs": [],
   "source": [
    "cust_df.head()"
   ]
  },
  {
   "cell_type": "code",
   "execution_count": null,
   "metadata": {},
   "outputs": [],
   "source": [
    "sc.mean(cust_df['HHIncome'])"
   ]
  },
  {
   "cell_type": "code",
   "execution_count": null,
   "metadata": {},
   "outputs": [],
   "source": [
    "cust_df['HHIncome'].dtype"
   ]
  },
  {
   "cell_type": "code",
   "execution_count": null,
   "metadata": {},
   "outputs": [],
   "source": [
    "#Using lambda functions\n",
    "#cust_df['Sales'] = cust_df['Sales'].apply(lambda x: x.replace('$', '').replace(',', '')\n",
    "#                                if isinstance(x, str) else x).astype(float)"
   ]
  },
  {
   "cell_type": "code",
   "execution_count": null,
   "metadata": {},
   "outputs": [],
   "source": [
    "print ('\\nAfter Coding:')\n",
    "print (pd.value_counts(cust_df[\"LoanDefault\"]))"
   ]
  },
  {
   "cell_type": "code",
   "execution_count": null,
   "metadata": {},
   "outputs": [],
   "source": [
    "#Recoding Gender as a numeric variable \n",
    "cust_df[\"Gender_num\"] = coding(cust_df[\"Gender\"], {'Female':2,'Male':1})\n",
    "print ('\\nAfter Coding:')\n",
    "print (pd.value_counts(cust_df[\"Gender_num\"]))"
   ]
  },
  {
   "cell_type": "code",
   "execution_count": null,
   "metadata": {},
   "outputs": [],
   "source": [
    "#Recoding LoanDefault_num as a numeric variable \n",
    "cust_df[\"LoanDefault_num\"] = coding(cust_df[\"LoanDefault\"], {'No':2,'Yes':1})\n",
    "print ('\\nAfter Coding:')\n",
    "print (pd.value_counts(cust_df[\"LoanDefault_num\"]))"
   ]
  },
  {
   "cell_type": "code",
   "execution_count": null,
   "metadata": {},
   "outputs": [],
   "source": []
  },
  {
   "cell_type": "code",
   "execution_count": null,
   "metadata": {},
   "outputs": [],
   "source": [
    "#Frequency distribution of JobCategory before imputation of missing values\n",
    "counts_JobCategory = cust_df['JobCategory'].value_counts()\n",
    "print (\"\\Before imputation for missing values:\")\n",
    "print (counts_JobCategory)"
   ]
  },
  {
   "cell_type": "code",
   "execution_count": null,
   "metadata": {},
   "outputs": [],
   "source": [
    "cust_df['JobCategory'].mode"
   ]
  },
  {
   "cell_type": "code",
   "execution_count": null,
   "metadata": {},
   "outputs": [],
   "source": [
    "#Replace missing character values with the mode of the distribution \n",
    "cust_df['JobCategory'].fillna(mode(cust_df['JobCategory']).mode[0], inplace=True)"
   ]
  },
  {
   "cell_type": "code",
   "execution_count": null,
   "metadata": {},
   "outputs": [],
   "source": [
    "#Frequency distribution of LoanDefault after imputation of missing values\n",
    "counts_JobCategory = cust_df['JobCategory'].value_counts()\n",
    "print (\"\\After imputation for missing values:\")\n",
    "print (counts_JobCategory)"
   ]
  },
  {
   "cell_type": "code",
   "execution_count": null,
   "metadata": {},
   "outputs": [],
   "source": [
    "cust_df.describe(include = [np.number])"
   ]
  },
  {
   "cell_type": "code",
   "execution_count": null,
   "metadata": {},
   "outputs": [],
   "source": [
    "cust_df.describe(include = [np.object])"
   ]
  },
  {
   "cell_type": "code",
   "execution_count": null,
   "metadata": {},
   "outputs": [],
   "source": [
    "cust_df.DebtToIncomeRatio.describe()"
   ]
  },
  {
   "cell_type": "code",
   "execution_count": null,
   "metadata": {},
   "outputs": [],
   "source": [
    "print (pd.value_counts(cust_df['OwnsMobileDevice']))"
   ]
  },
  {
   "cell_type": "code",
   "execution_count": null,
   "metadata": {},
   "outputs": [],
   "source": [
    "cust_df['OwnsMobileDevice'].value_counts()"
   ]
  },
  {
   "cell_type": "code",
   "execution_count": null,
   "metadata": {},
   "outputs": [],
   "source": [
    "#Binning continuous variables\n",
    "def binning(col, cut_points, labels=None):\n",
    "  #Define min and max values:\n",
    "  minval = col.min()\n",
    "  maxval = col.max()\n",
    "\n",
    "  #create list by adding min and max to cut_points\n",
    "  break_points = [minval] + cut_points + [maxval]\n",
    "  print(break_points)  \n",
    "  #if no labels provided, use default labels 0 ... (n-1)\n",
    "  if not labels:\n",
    "    labels = range(1,len(cut_points)+2)\n",
    "  print(labels)\n",
    "  #Binning using cut function of pandas\n",
    "  colBin = pd.cut(col,bins=break_points,labels=labels,include_lowest=True)\n",
    "  return colBin"
   ]
  },
  {
   "cell_type": "code",
   "execution_count": null,
   "metadata": {},
   "outputs": [],
   "source": [
    "#Binning DebtToIncomeRatio:\n",
    "cut_points = [5,10,15]\n",
    "#labels = [\"low\",\"medium\",\"high\",\"very high\"]\n",
    "#cust_df[\"DebtToIncomeRatio_Recoded\"] = binning(cust_df[\"DebtToIncomeRatio\"], cut_points,labels)\n",
    "#To get labels that start from 0 modify above range function; To use labels add labels in binning function below\n",
    "cust_df[\"DebtToIncomeRatio_Recoded\"] = binning(cust_df[\"DebtToIncomeRatio\"], cut_points)\n",
    "print (pd.value_counts(cust_df[\"DebtToIncomeRatio_Recoded\"], sort=False))"
   ]
  },
  {
   "cell_type": "code",
   "execution_count": null,
   "metadata": {},
   "outputs": [],
   "source": [
    "cust_df.Age.describe()"
   ]
  },
  {
   "cell_type": "code",
   "execution_count": null,
   "metadata": {},
   "outputs": [],
   "source": [
    "#Binning Age:\n",
    "cut_points = [31,47,62]\n",
    "labels = [\"18-31\",\">31-47\",\">47-62\",\">62\"]\n",
    "cust_df[\"Age_Recoded\"] = binning(cust_df[\"Age\"], cut_points,labels)\n",
    "print (pd.value_counts(cust_df[\"Age_Recoded\"], sort=False))"
   ]
  },
  {
   "cell_type": "code",
   "execution_count": null,
   "metadata": {},
   "outputs": [],
   "source": [
    "cust_df.PhoneCoTenure.describe()"
   ]
  },
  {
   "cell_type": "code",
   "execution_count": null,
   "metadata": {},
   "outputs": [],
   "source": [
    "#Binning PhoneCoTenure:\n",
    "cut_points = [18,38,59]\n",
    "labels = [\"0-18\",\">18-38\",\">38-59\",\">59\"]\n",
    "cust_df[\"PhoneCoTenure_Coded\"] = binning(cust_df['PhoneCoTenure'], cut_points,labels)\n",
    "print (pd.value_counts(cust_df['PhoneCoTenure_Coded'], sort=False))"
   ]
  },
  {
   "cell_type": "code",
   "execution_count": null,
   "metadata": {},
   "outputs": [],
   "source": [
    "cust_df['JobCategory'].value_counts()"
   ]
  },
  {
   "cell_type": "code",
   "execution_count": null,
   "metadata": {},
   "outputs": [],
   "source": [
    "#Creating pivot tables; Higher levels of DebtToIncomeRatio for Yes to LoanDefault\n",
    "LoanDefault_Grps = cust_df.pivot_table(values=[\"DebtToIncomeRatio\"], index=['Gender','LoanDefault','Age_Recoded'], aggfunc=np.mean)\n",
    "print (LoanDefault_Grps)"
   ]
  },
  {
   "cell_type": "code",
   "execution_count": null,
   "metadata": {},
   "outputs": [],
   "source": [
    "#Coding a nominal variable into a numeric variable\n",
    "#Define a generic function using Pandas replace function\n",
    "def coding(col, codeDict):\n",
    "  colCoded = pd.Series(col, copy=True)\n",
    "  for key, value in codeDict.items():\n",
    "    colCoded.replace(key, value, inplace=True)\n",
    "  return colCoded"
   ]
  },
  {
   "cell_type": "code",
   "execution_count": null,
   "metadata": {},
   "outputs": [],
   "source": [
    "#Coding LoanStatus as Y=1, N=0:\n",
    "print ('Before Coding:')\n",
    "print (pd.value_counts(cust_df['OwnsMobileDevice']))\n",
    "cust_df['OwnsMobileDevice_Coded'] = coding(cust_df['OwnsMobileDevice'], {'No':1,'Yes':2})\n",
    "print ('\\nAfter Coding:')\n",
    "print (pd.value_counts(cust_df['OwnsMobileDevice_Coded']))"
   ]
  },
  {
   "cell_type": "code",
   "execution_count": null,
   "metadata": {},
   "outputs": [],
   "source": [
    "cust_df_colnames = cust_df.columns.values.tolist()\n",
    "cust_df_colnames"
   ]
  },
  {
   "cell_type": "code",
   "execution_count": null,
   "metadata": {},
   "outputs": [],
   "source": [
    "print (pd.value_counts(cust_df['HomeOwner']))"
   ]
  },
  {
   "cell_type": "code",
   "execution_count": null,
   "metadata": {},
   "outputs": [],
   "source": [
    "cust_df['HomeOwner2'] = cust_df['HomeOwner'] + 1"
   ]
  },
  {
   "cell_type": "code",
   "execution_count": null,
   "metadata": {},
   "outputs": [],
   "source": [
    "print (pd.value_counts(cust_df['HomeOwner2']))"
   ]
  },
  {
   "cell_type": "code",
   "execution_count": null,
   "metadata": {},
   "outputs": [],
   "source": [
    "print (pd.value_counts(cust_df['VoiceLastMonth']))"
   ]
  },
  {
   "cell_type": "code",
   "execution_count": null,
   "metadata": {},
   "outputs": [],
   "source": [
    "print (pd.value_counts(cust_df['PhoneCoTenure']))"
   ]
  },
  {
   "cell_type": "code",
   "execution_count": null,
   "metadata": {},
   "outputs": [],
   "source": [
    "cust_df['VoiceLastMonth_Coded'] = cust_df['VoiceLastMonth'].apply(clean_currency).astype('float')"
   ]
  },
  {
   "cell_type": "code",
   "execution_count": null,
   "metadata": {},
   "outputs": [],
   "source": [
    "sc.mean(cust_df['VoiceLastMonth_Coded'])"
   ]
  },
  {
   "cell_type": "code",
   "execution_count": null,
   "metadata": {
    "scrolled": true
   },
   "outputs": [],
   "source": [
    "#Selecting the columns or variables that you want to use for clustering\n",
    "cust_df_kmeans = cust_df[['X1','X2', 'X3']]"
   ]
  },
  {
   "cell_type": "code",
   "execution_count": null,
   "metadata": {},
   "outputs": [],
   "source": [
    "cust_df_kmeans.head(5)"
   ]
  },
  {
   "cell_type": "code",
   "execution_count": null,
   "metadata": {},
   "outputs": [],
   "source": [
    "cust_df_kmeans.shape"
   ]
  },
  {
   "cell_type": "code",
   "execution_count": null,
   "metadata": {},
   "outputs": [],
   "source": [
    "cust_df_kmeans.info()"
   ]
  },
  {
   "cell_type": "code",
   "execution_count": null,
   "metadata": {},
   "outputs": [],
   "source": [
    "#test = ufo.loc[~ufo.index.isin(train.index), :]"
   ]
  },
  {
   "cell_type": "code",
   "execution_count": null,
   "metadata": {},
   "outputs": [],
   "source": [
    "# standardizing the data\n",
    "from sklearn.preprocessing import StandardScaler\n",
    "scaler = StandardScaler()\n",
    "cust_kmeans_scaled = scaler.fit_transform(cust_df_kmeans)\n",
    "#Assign the scaled data to a DataFrame using the index keyword arguments\n",
    "cust_kmeans_scaled_df = pd.DataFrame(cust_kmeans_scaled, index = cust_df_kmeans.index)\n",
    "cust_kmeans_scaled_df.head()"
   ]
  },
  {
   "cell_type": "code",
   "execution_count": null,
   "metadata": {},
   "outputs": [],
   "source": [
    "# statistics of scaled data\n",
    "pd.DataFrame(cust_kmeans_scaled_df).describe()"
   ]
  },
  {
   "cell_type": "code",
   "execution_count": null,
   "metadata": {},
   "outputs": [],
   "source": [
    "# Plot inertia for multiple cluster solutions against the number of clusters\n",
    "# fitting multiple k-means algorithms and storing the values in an empty list\n",
    "SSE = []\n",
    "for cluster in range(2,10):\n",
    "    kmeans = KMeans(n_jobs = -1, n_clusters = cluster, init='k-means++')\n",
    "    kmeans.fit(cust_kmeans_scaled_df)\n",
    "    SSE.append(kmeans.inertia_)\n",
    "\n",
    "# converting the results into a dataframe and plotting them\n",
    "cust_df_frame = pd.DataFrame({'Cluster':range(2,10), 'SSE':SSE})\n",
    "plt.figure(figsize=(12,6))\n",
    "plt.plot(cust_df_frame['Cluster'], cust_df_frame['SSE'], marker='o')\n",
    "plt.xlabel('Number of clusters')\n",
    "plt.ylabel('Inertia')"
   ]
  },
  {
   "cell_type": "code",
   "execution_count": null,
   "metadata": {},
   "outputs": [],
   "source": [
    "# Defining the kmeans function with initialization as k-means++; # You want to cluster into 5 segments\n",
    "kmeans_5 = KMeans(n_clusters = 5, init='k-means++')\n",
    "\n",
    "# fitting the k means algorithm on scaled data\n",
    "kmeans_5.fit(cust_kmeans_scaled_df)"
   ]
  },
  {
   "cell_type": "code",
   "execution_count": null,
   "metadata": {},
   "outputs": [],
   "source": [
    "# Inertia calculates the sum of all the points within a cluster from the centroid of that cluster.\n",
    "# Determine inertia on the fitted data\n",
    "kmeans_5.inertia_"
   ]
  },
  {
   "cell_type": "code",
   "execution_count": null,
   "metadata": {},
   "outputs": [],
   "source": [
    "pred_clus5 = kmeans_5.predict(cust_kmeans_scaled_df)"
   ]
  },
  {
   "cell_type": "code",
   "execution_count": null,
   "metadata": {},
   "outputs": [],
   "source": [
    "cust_df_frame_2 = pd.DataFrame(cust_kmeans_scaled_df)\n",
    "cust_df_frame_2['cluster'] = pred_clus5\n",
    "cust_df_frame_2['cluster'].value_counts()"
   ]
  },
  {
   "cell_type": "code",
   "execution_count": null,
   "metadata": {},
   "outputs": [],
   "source": [
    "# Using head shows the data structure of the resulting data frame\n",
    "# There are 10 variables used for clustering and their scaled values are shown\n",
    "# The last column is the cluster solution and shows the cluster to which obsevation belongs\n",
    "# There are five segments starting from 0 to 4\n",
    "cust_df_frame_2.head(5)"
   ]
  },
  {
   "cell_type": "code",
   "execution_count": null,
   "metadata": {},
   "outputs": [],
   "source": [
    "# Get the cluster centroids\n",
    "print(kmeans_5.cluster_centers_)"
   ]
  },
  {
   "cell_type": "code",
   "execution_count": null,
   "metadata": {},
   "outputs": [],
   "source": [
    "# Create a new data column cluster5_2 to incorporate a cluster indicator variable running from 1 to 5\n",
    "cust_df_frame_2['cluster5_2'] = cust_df_frame_2['cluster'] + 1\n",
    "cust_df_frame_2.head(5)"
   ]
  },
  {
   "cell_type": "code",
   "execution_count": null,
   "metadata": {},
   "outputs": [],
   "source": [
    "# Get the cluster labels\n",
    "print(kmeans_5.labels_)"
   ]
  },
  {
   "cell_type": "code",
   "execution_count": null,
   "metadata": {},
   "outputs": [],
   "source": [
    "cust_df_frame_2['cluster5_2'].value_counts()"
   ]
  },
  {
   "cell_type": "code",
   "execution_count": null,
   "metadata": {},
   "outputs": [],
   "source": [
    "# Plotting the cluster centers and the data points on a 2D plane; Need to think through this\n",
    "plt.scatter(cust_df_kmeans_scaled[:, 0], cust_df_kmeans_scaled[:, -1])"
   ]
  },
  {
   "cell_type": "code",
   "execution_count": null,
   "metadata": {},
   "outputs": [],
   "source": [
    "plt.scatter(kmeans_5.cluster_centers_[:, 0], kmeans_5.cluster_centers_[:, 1], c='red', marker='x')"
   ]
  },
  {
   "cell_type": "code",
   "execution_count": null,
   "metadata": {},
   "outputs": [],
   "source": [
    "# Calculate silhouette_score\n",
    "from sklearn.metrics import silhouette_score\n",
    "print(silhouette_score(cust_df_frame_2, kmeans.labels_))"
   ]
  },
  {
   "cell_type": "code",
   "execution_count": null,
   "metadata": {},
   "outputs": [],
   "source": [
    "# Import the KElbowVisualizer method \n",
    "from yellowbrick.cluster import KElbowVisualizer\n",
    "from sklearn.cluster import KMeans\n",
    "from sklearn.datasets import make_blobs\n",
    "\n",
    "# Instantiate a scikit-learn K-Means model\n",
    "model = KMeans(random_state=0)\n",
    "\n",
    "# Instantiate the KElbowVisualizer with the number of clusters and the metric \n",
    "visualizer = KElbowVisualizer(model, k=(2,6), metric='silhouette', timings=False)\n",
    "\n",
    "# Fit the data and visualize\n",
    "visualizer.fit(cust_df_frame_2)    \n",
    "visualizer.poof()  "
   ]
  },
  {
   "cell_type": "code",
   "execution_count": null,
   "metadata": {},
   "outputs": [],
   "source": [
    "# Joining the clusters from kmeans to the original data used for clustering\n",
    "cust_df_clus5_ALL = pd.DataFrame(pd.concat([cust_df_frame_2, cust_df], axis = 1))\n",
    "cust_df_clus5_ALL.shape"
   ]
  },
  {
   "cell_type": "code",
   "execution_count": null,
   "metadata": {},
   "outputs": [],
   "source": [
    "cust_df_clus5_ALL.info()"
   ]
  },
  {
   "cell_type": "code",
   "execution_count": null,
   "metadata": {},
   "outputs": [],
   "source": [
    "# Using pandas crosstabs to create a cross tab of clusters by loan defaults\n",
    "pd.crosstab(cust_df_clus5_ALL['cluster5_2'],cust_df_clus5_ALL['LoanDefault'],margins=True, normalize = 'columns')"
   ]
  },
  {
   "cell_type": "code",
   "execution_count": null,
   "metadata": {},
   "outputs": [],
   "source": [
    "# Using pandas pivot tables to create a cross tab of DebtToIncomeRatio by clusters by loan defaults by Age\n",
    "\n",
    "Cluster_Grps = cust_df_clus5_ALL.pivot_table(values=[\"DebtToIncomeRatio\"], index=['cluster5_2','LoanDefault','Age_Recoded'], aggfunc=np.mean)\n",
    "print (Cluster_Grps)"
   ]
  },
  {
   "cell_type": "code",
   "execution_count": null,
   "metadata": {},
   "outputs": [],
   "source": [
    "#Extracting the cluster data from the original cluster solution and saving it as a DataFrame with an index\n",
    "cust_df_kmeans_cluster5_2 = pd.DataFrame(cust_df_frame_2['cluster5_2'])\n",
    "cust_df_kmeans_cluster5_2.head()"
   ]
  },
  {
   "cell_type": "code",
   "execution_count": null,
   "metadata": {},
   "outputs": [],
   "source": [
    "# Checking on the size and shape of the DataFrame\n",
    "cust_df_kmeans_cluster5_2.shape"
   ]
  },
  {
   "cell_type": "code",
   "execution_count": null,
   "metadata": {},
   "outputs": [],
   "source": [
    "cust_df_kmeans.head(5)"
   ]
  },
  {
   "cell_type": "code",
   "execution_count": null,
   "metadata": {},
   "outputs": [],
   "source": [
    "# Joining the clusters from kmeans to the original data used for clustering\n",
    "cust_df_clus5_rf = pd.DataFrame(pd.concat([cust_df_kmeans_cluster5_2, cust_df_kmeans], axis = 1))"
   ]
  },
  {
   "cell_type": "code",
   "execution_count": null,
   "metadata": {},
   "outputs": [],
   "source": [
    "cust_df_clus5_rf.head()"
   ]
  },
  {
   "cell_type": "code",
   "execution_count": null,
   "metadata": {},
   "outputs": [],
   "source": [
    "cust_df_clus5_rf.shape"
   ]
  },
  {
   "cell_type": "code",
   "execution_count": null,
   "metadata": {},
   "outputs": [],
   "source": [
    "# Check on the cluster distribution after extraction and concatenating\n",
    "cust_df_clus5_rf['cluster5_2'].value_counts()"
   ]
  },
  {
   "cell_type": "markdown",
   "metadata": {},
   "source": [
    "### END OF SEGMENTATION EXAMPLE CODE "
   ]
  },
  {
   "cell_type": "markdown",
   "metadata": {},
   "source": [
    "#For those intersting in exploring a Random Forest Model\n",
    "def split_data(df, train_perc = 0.8):\n",
    "    df['train'] = np.random.rand(len(df)) < train_perc\n",
    "    train = df[df.train == 1]\n",
    "    test = df[df.train == 0]\n",
    "    split_data ={'train': train, 'test': test}\n",
    "    return split_data"
   ]
  },
  {
   "cell_type": "code",
   "execution_count": null,
   "metadata": {
    "scrolled": true
   },
   "outputs": [],
   "source": [
    "#split_data(cust_df_kmeans,0.8)"
   ]
  },
  {
   "cell_type": "code",
   "execution_count": null,
   "metadata": {},
   "outputs": [],
   "source": [
    "probs = np.random.rand(len(cust_df_clus5_rf))\n",
    "training_set = probs < 0.8\n",
    "test_set = (probs>=0.8)\n",
    "\n",
    "cust_df_kmeans_clus_5_trg = cust_df_clus5_rf[training_set]\n",
    "cust_df_kmeans_clus_5_tst = cust_df_clus5_rf[test_set]"
   ]
  },
  {
   "cell_type": "code",
   "execution_count": null,
   "metadata": {},
   "outputs": [],
   "source": [
    "# Removing the y variable - cluster5_2 from the training data set\n",
    "cust_df_kmeans_clus_5_trg2 = cust_df_kmeans_clus_5_trg.drop('cluster5_2', 1)\n",
    "cust_df_kmeans_clu_5_Y = pd.DataFrame(cust_df_kmeans_clus_5_trg['cluster5_2'])\n",
    "cust_df_kmeans_clus_5_trg2.head()"
   ]
  },
  {
   "cell_type": "code",
   "execution_count": null,
   "metadata": {},
   "outputs": [],
   "source": [
    "# Removing the y variable - cluster5_2 from the testing data set\n",
    "cust_df_kmeans_clus_5_tst2 = cust_df_kmeans_clus_5_tst.drop('cluster5_2', 1)\n",
    "cust_df_kmeans_clu_5_Y_tst = pd.DataFrame(cust_df_kmeans_clus_5_tst['cluster5_2'])\n",
    "cust_df_kmeans_clus_5_tst2.head()"
   ]
  },
  {
   "cell_type": "code",
   "execution_count": null,
   "metadata": {},
   "outputs": [],
   "source": [
    "cust_df_kmeans_clu_5_Y.head()"
   ]
  },
  {
   "cell_type": "code",
   "execution_count": null,
   "metadata": {},
   "outputs": [],
   "source": [
    "cust_df_kmeans_clus_5_trg2.shape"
   ]
  },
  {
   "cell_type": "code",
   "execution_count": null,
   "metadata": {},
   "outputs": [],
   "source": [
    "cust_df_kmeans_clus_5_tst.shape"
   ]
  },
  {
   "cell_type": "code",
   "execution_count": null,
   "metadata": {},
   "outputs": [],
   "source": [
    "#Import Random Forest Model\n",
    "from sklearn.ensemble import RandomForestClassifier\n",
    "\n",
    "#Create a Gaussian Classifier\n",
    "clf_5 = RandomForestClassifier(n_estimators=100)\n",
    "\n",
    "#Train the model using the training sets y_pred=clf.predict(X_test)\n",
    "clf_5.fit(cust_df_kmeans_clus_5_trg2, cust_df_kmeans_clu_5_Y)\n",
    "\n",
    "cust_df_kmeans_clu_5_Y_pred = clf_5.predict(cust_df_kmeans_clus_5_tst2)"
   ]
  },
  {
   "cell_type": "code",
   "execution_count": null,
   "metadata": {},
   "outputs": [],
   "source": [
    "#Import scikit-learn metrics module for accuracy calculation\n",
    "from sklearn import metrics\n",
    "# Model Accuracy, how often is the classifier correct?\n",
    "print(\"Accuracy:\",metrics.accuracy_score(cust_df_kmeans_clu_5_Y_tst, cust_df_kmeans_clu_5_Y_pred))"
   ]
  },
  {
   "cell_type": "code",
   "execution_count": null,
   "metadata": {},
   "outputs": [],
   "source": [
    "# Create a list of feature names\n",
    "feature_names = list(cust_df_kmeans_clus_5_trg2.columns)"
   ]
  },
  {
   "cell_type": "code",
   "execution_count": null,
   "metadata": {},
   "outputs": [],
   "source": [
    "# Compute feature importances for the features used in the RF model\n",
    "feature_imp = pd.Series(clf_5.feature_importances_,index = feature_names).sort_values(ascending=False)\n",
    "feature_imp"
   ]
  },
  {
   "cell_type": "code",
   "execution_count": null,
   "metadata": {},
   "outputs": [],
   "source": [
    "import matplotlib.pyplot as plt\n",
    "import seaborn as sns\n",
    "%matplotlib inline\n",
    "# Creating a bar plot\n",
    "sns.barplot(x=feature_imp, y=feature_imp.index)\n",
    "# Add labels to your graph\n",
    "plt.xlabel('Feature Importance Score')\n",
    "plt.ylabel('Features')\n",
    "plt.title(\"Visualizing Important Features\")\n",
    "plt.legend()\n",
    "plt.show()"
   ]
  },
  {
   "cell_type": "code",
   "execution_count": null,
   "metadata": {},
   "outputs": [],
   "source": [
    "# Printing a confusion matrix for the test data\n",
    "from sklearn.metrics import confusion_matrix\n",
    "\n",
    "conf_mat = confusion_matrix(cust_df_kmeans_clu_5_Y_tst, cust_df_kmeans_clu_5_Y_pred)\n",
    "print(conf_mat)"
   ]
  }
 ],
 "metadata": {
  "kernelspec": {
   "display_name": "Python 3",
   "language": "python",
   "name": "python3"
  },
  "language_info": {
   "codemirror_mode": {
    "name": "ipython",
    "version": 3
   },
   "file_extension": ".py",
   "mimetype": "text/x-python",
   "name": "python",
   "nbconvert_exporter": "python",
   "pygments_lexer": "ipython3",
   "version": "3.7.4"
  },
  "toc": {
   "nav_menu": {},
   "number_sections": true,
   "sideBar": true,
   "skip_h1_title": false,
   "toc_cell": false,
   "toc_position": {},
   "toc_section_display": "block",
   "toc_window_display": false
  }
 },
 "nbformat": 4,
 "nbformat_minor": 2
}
