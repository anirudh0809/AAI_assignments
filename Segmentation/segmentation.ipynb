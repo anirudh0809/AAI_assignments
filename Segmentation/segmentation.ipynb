{
 "metadata": {
  "language_info": {
   "codemirror_mode": {
    "name": "ipython",
    "version": 3
   },
   "file_extension": ".py",
   "mimetype": "text/x-python",
   "name": "python",
   "nbconvert_exporter": "python",
   "pygments_lexer": "ipython3",
   "version": "3.8.7"
  },
  "orig_nbformat": 2,
  "kernelspec": {
   "name": "python3",
   "display_name": "Python 3.8.7 64-bit",
   "metadata": {
    "interpreter": {
     "hash": "aee8b7b246df8f9039afb4144a1f6fd8d2ca17a180786b69acc140d282b71a49"
    }
   }
  }
 },
 "nbformat": 4,
 "nbformat_minor": 2,
 "cells": [
  {
   "cell_type": "code",
   "execution_count": 1,
   "metadata": {},
   "outputs": [],
   "source": [
    "import pandas as pd \n",
    "import numpy as np "
   ]
  },
  {
   "cell_type": "code",
   "execution_count": null,
   "metadata": {},
   "outputs": [],
   "source": [
    "include = [\n",
    "    \n",
    "]"
   ]
  },
  {
   "cell_type": "code",
   "execution_count": 13,
   "metadata": {},
   "outputs": [],
   "source": [
    "df = pd.read_csv('Customer_Dataset_File.csv',low_memory=False,sep=',')"
   ]
  },
  {
   "cell_type": "code",
   "execution_count": 14,
   "metadata": {},
   "outputs": [
    {
     "output_type": "execute_result",
     "data": {
      "text/plain": [
       "        CustomerID   RandID  Region TownSize  Gender  Age  EducationYears  \\\n",
       "0  3964-QJWTRG-NPN  1395460       1        2  Female   20              15   \n",
       "1  0648-AIPJSP-UVM  5892126       5        5    Male   22              17   \n",
       "2  5195-TLUDJE-HVO  3924533       3        4  Female   67              14   \n",
       "3  4459-VLPQUH-3OL  2941342       4        3    Male   23              16   \n",
       "4  8158-SMTQFB-CNO  3444746       2        2    Male   26              16   \n",
       "\n",
       "    JobCategory UnionMember  EmploymentLength  ... CallWait CallForward  \\\n",
       "0  Professional         Yes                 0  ...      Yes         Yes   \n",
       "1         Sales          No                 0  ...       No         Yes   \n",
       "2         Sales          No                16  ...       No          No   \n",
       "3         Sales          No                 0  ...       No          No   \n",
       "4         Sales          No                 1  ...      Yes         Yes   \n",
       "\n",
       "   ThreeWayCalling  EBilling  TVWatchingHours OwnsPC OwnsMobileDevice  \\\n",
       "0              Yes        No               13     No              Yes   \n",
       "1               No       Yes               18    Yes              Yes   \n",
       "2               No        No               21     No               No   \n",
       "3               No       Yes               26    Yes              Yes   \n",
       "4              Yes        No               27    Yes               No   \n",
       "\n",
       "   OwnsGameSystem  OwnsFax  NewsSubscriber  \n",
       "0             Yes       No              No  \n",
       "1             Yes      Yes             Yes  \n",
       "2              No       No             Yes  \n",
       "3             Yes       No             Yes  \n",
       "4             Yes       No              No  \n",
       "\n",
       "[5 rows x 60 columns]"
      ],
      "text/html": "<div>\n<style scoped>\n    .dataframe tbody tr th:only-of-type {\n        vertical-align: middle;\n    }\n\n    .dataframe tbody tr th {\n        vertical-align: top;\n    }\n\n    .dataframe thead th {\n        text-align: right;\n    }\n</style>\n<table border=\"1\" class=\"dataframe\">\n  <thead>\n    <tr style=\"text-align: right;\">\n      <th></th>\n      <th>CustomerID</th>\n      <th>RandID</th>\n      <th>Region</th>\n      <th>TownSize</th>\n      <th>Gender</th>\n      <th>Age</th>\n      <th>EducationYears</th>\n      <th>JobCategory</th>\n      <th>UnionMember</th>\n      <th>EmploymentLength</th>\n      <th>...</th>\n      <th>CallWait</th>\n      <th>CallForward</th>\n      <th>ThreeWayCalling</th>\n      <th>EBilling</th>\n      <th>TVWatchingHours</th>\n      <th>OwnsPC</th>\n      <th>OwnsMobileDevice</th>\n      <th>OwnsGameSystem</th>\n      <th>OwnsFax</th>\n      <th>NewsSubscriber</th>\n    </tr>\n  </thead>\n  <tbody>\n    <tr>\n      <th>0</th>\n      <td>3964-QJWTRG-NPN</td>\n      <td>1395460</td>\n      <td>1</td>\n      <td>2</td>\n      <td>Female</td>\n      <td>20</td>\n      <td>15</td>\n      <td>Professional</td>\n      <td>Yes</td>\n      <td>0</td>\n      <td>...</td>\n      <td>Yes</td>\n      <td>Yes</td>\n      <td>Yes</td>\n      <td>No</td>\n      <td>13</td>\n      <td>No</td>\n      <td>Yes</td>\n      <td>Yes</td>\n      <td>No</td>\n      <td>No</td>\n    </tr>\n    <tr>\n      <th>1</th>\n      <td>0648-AIPJSP-UVM</td>\n      <td>5892126</td>\n      <td>5</td>\n      <td>5</td>\n      <td>Male</td>\n      <td>22</td>\n      <td>17</td>\n      <td>Sales</td>\n      <td>No</td>\n      <td>0</td>\n      <td>...</td>\n      <td>No</td>\n      <td>Yes</td>\n      <td>No</td>\n      <td>Yes</td>\n      <td>18</td>\n      <td>Yes</td>\n      <td>Yes</td>\n      <td>Yes</td>\n      <td>Yes</td>\n      <td>Yes</td>\n    </tr>\n    <tr>\n      <th>2</th>\n      <td>5195-TLUDJE-HVO</td>\n      <td>3924533</td>\n      <td>3</td>\n      <td>4</td>\n      <td>Female</td>\n      <td>67</td>\n      <td>14</td>\n      <td>Sales</td>\n      <td>No</td>\n      <td>16</td>\n      <td>...</td>\n      <td>No</td>\n      <td>No</td>\n      <td>No</td>\n      <td>No</td>\n      <td>21</td>\n      <td>No</td>\n      <td>No</td>\n      <td>No</td>\n      <td>No</td>\n      <td>Yes</td>\n    </tr>\n    <tr>\n      <th>3</th>\n      <td>4459-VLPQUH-3OL</td>\n      <td>2941342</td>\n      <td>4</td>\n      <td>3</td>\n      <td>Male</td>\n      <td>23</td>\n      <td>16</td>\n      <td>Sales</td>\n      <td>No</td>\n      <td>0</td>\n      <td>...</td>\n      <td>No</td>\n      <td>No</td>\n      <td>No</td>\n      <td>Yes</td>\n      <td>26</td>\n      <td>Yes</td>\n      <td>Yes</td>\n      <td>Yes</td>\n      <td>No</td>\n      <td>Yes</td>\n    </tr>\n    <tr>\n      <th>4</th>\n      <td>8158-SMTQFB-CNO</td>\n      <td>3444746</td>\n      <td>2</td>\n      <td>2</td>\n      <td>Male</td>\n      <td>26</td>\n      <td>16</td>\n      <td>Sales</td>\n      <td>No</td>\n      <td>1</td>\n      <td>...</td>\n      <td>Yes</td>\n      <td>Yes</td>\n      <td>Yes</td>\n      <td>No</td>\n      <td>27</td>\n      <td>Yes</td>\n      <td>No</td>\n      <td>Yes</td>\n      <td>No</td>\n      <td>No</td>\n    </tr>\n  </tbody>\n</table>\n<p>5 rows × 60 columns</p>\n</div>"
     },
     "metadata": {},
     "execution_count": 14
    }
   ],
   "source": [
    "df.head(5)"
   ]
  },
  {
   "cell_type": "code",
   "execution_count": 15,
   "metadata": {},
   "outputs": [
    {
     "output_type": "stream",
     "name": "stdout",
     "text": [
      "<class 'pandas.core.frame.DataFrame'>\nRangeIndex: 5000 entries, 0 to 4999\nData columns (total 60 columns):\n #   Column               Non-Null Count  Dtype  \n---  ------               --------------  -----  \n 0   CustomerID           5000 non-null   object \n 1   RandID               5000 non-null   int64  \n 2   Region               5000 non-null   int64  \n 3   TownSize             5000 non-null   object \n 4   Gender               4967 non-null   object \n 5   Age                  5000 non-null   int64  \n 6   EducationYears       5000 non-null   int64  \n 7   JobCategory          4985 non-null   object \n 8   UnionMember          5000 non-null   object \n 9   EmploymentLength     5000 non-null   int64  \n 10  Retired              5000 non-null   object \n 11  HHIncome             5000 non-null   object \n 12  DebtToIncomeRatio    5000 non-null   float64\n 13  CreditDebt           5000 non-null   float64\n 14  OtherDebt            5000 non-null   float64\n 15  LoanDefault          5000 non-null   object \n 16  MaritalStatus        5000 non-null   object \n 17  HouseholdSize        4992 non-null   float64\n 18  NumberPets           4994 non-null   float64\n 19  NumberCats           4993 non-null   float64\n 20  NumberDogs           4992 non-null   float64\n 21  NumberBirds          4966 non-null   float64\n 22  HomeOwner            4987 non-null   float64\n 23  CarsOwned            5000 non-null   int64  \n 24  CarOwnership         5000 non-null   object \n 25  CarBrand             5000 non-null   object \n 26  CarValue             5000 non-null   object \n 27  CommuteTime          5000 non-null   object \n 28  PoliticalPartyMem    5000 non-null   object \n 29  Votes                5000 non-null   object \n 30  CreditCard           5000 non-null   object \n 31  CardTenure           5000 non-null   int64  \n 32  CardItemsMonthly     5000 non-null   int64  \n 33  CardSpendMonth       5000 non-null   object \n 34  ActiveLifestyle      5000 non-null   object \n 35  PhoneCoTenure        5000 non-null   int64  \n 36  VoiceLastMonth       5000 non-null   object \n 37  VoiceOverTenure      5000 non-null   object \n 38  EquipmentRental      5000 non-null   object \n 39  EquipmentLastMonth   5000 non-null   object \n 40  EquipmentOverTenure  5000 non-null   object \n 41  CallingCard          5000 non-null   object \n 42  WirelessData         5000 non-null   object \n 43  DataLastMonth        5000 non-null   object \n 44  DataOverTenure       5000 non-null   object \n 45  Multiline            5000 non-null   object \n 46  VM                   5000 non-null   object \n 47  Pager                5000 non-null   object \n 48  Internet             5000 non-null   object \n 49  CallerID             5000 non-null   object \n 50  CallWait             5000 non-null   object \n 51  CallForward          5000 non-null   object \n 52  ThreeWayCalling      5000 non-null   object \n 53  EBilling             5000 non-null   object \n 54  TVWatchingHours      5000 non-null   int64  \n 55  OwnsPC               5000 non-null   object \n 56  OwnsMobileDevice     5000 non-null   object \n 57  OwnsGameSystem       5000 non-null   object \n 58  OwnsFax              5000 non-null   object \n 59  NewsSubscriber       5000 non-null   object \ndtypes: float64(9), int64(10), object(41)\nmemory usage: 2.3+ MB\n"
     ]
    }
   ],
   "source": [
    "df.info()"
   ]
  },
  {
   "cell_type": "code",
   "execution_count": 16,
   "metadata": {},
   "outputs": [
    {
     "output_type": "execute_result",
     "data": {
      "text/plain": [
       "Index(['CustomerID', 'RandID', 'Region', 'TownSize', 'Gender', 'Age',\n",
       "       'EducationYears', 'JobCategory', 'UnionMember', 'EmploymentLength',\n",
       "       'Retired', 'HHIncome', 'DebtToIncomeRatio', 'CreditDebt', 'OtherDebt',\n",
       "       'LoanDefault', 'MaritalStatus', 'HouseholdSize', 'NumberPets',\n",
       "       'NumberCats', 'NumberDogs', 'NumberBirds', 'HomeOwner', 'CarsOwned',\n",
       "       'CarOwnership', 'CarBrand', 'CarValue', 'CommuteTime',\n",
       "       'PoliticalPartyMem', 'Votes', 'CreditCard', 'CardTenure',\n",
       "       'CardItemsMonthly', 'CardSpendMonth', 'ActiveLifestyle',\n",
       "       'PhoneCoTenure', 'VoiceLastMonth', 'VoiceOverTenure', 'EquipmentRental',\n",
       "       'EquipmentLastMonth', 'EquipmentOverTenure', 'CallingCard',\n",
       "       'WirelessData', 'DataLastMonth', 'DataOverTenure', 'Multiline', 'VM',\n",
       "       'Pager', 'Internet', 'CallerID', 'CallWait', 'CallForward',\n",
       "       'ThreeWayCalling', 'EBilling', 'TVWatchingHours', 'OwnsPC',\n",
       "       'OwnsMobileDevice', 'OwnsGameSystem', 'OwnsFax', 'NewsSubscriber'],\n",
       "      dtype='object')"
      ]
     },
     "metadata": {},
     "execution_count": 16
    }
   ],
   "source": [
    "df.columns"
   ]
  },
  {
   "cell_type": "code",
   "execution_count": 17,
   "metadata": {},
   "outputs": [
    {
     "output_type": "execute_result",
     "data": {
      "text/plain": [
       "CustomerID              0\n",
       "RandID                  0\n",
       "Region                  0\n",
       "TownSize                0\n",
       "Gender                 33\n",
       "Age                     0\n",
       "EducationYears          0\n",
       "JobCategory            15\n",
       "UnionMember             0\n",
       "EmploymentLength        0\n",
       "Retired                 0\n",
       "HHIncome                0\n",
       "DebtToIncomeRatio       0\n",
       "CreditDebt              0\n",
       "OtherDebt               0\n",
       "LoanDefault             0\n",
       "MaritalStatus           0\n",
       "HouseholdSize           8\n",
       "NumberPets              6\n",
       "NumberCats              7\n",
       "NumberDogs              8\n",
       "NumberBirds            34\n",
       "HomeOwner              13\n",
       "CarsOwned               0\n",
       "CarOwnership            0\n",
       "CarBrand                0\n",
       "CarValue                0\n",
       "CommuteTime             0\n",
       "PoliticalPartyMem       0\n",
       "Votes                   0\n",
       "CreditCard              0\n",
       "CardTenure              0\n",
       "CardItemsMonthly        0\n",
       "CardSpendMonth          0\n",
       "ActiveLifestyle         0\n",
       "PhoneCoTenure           0\n",
       "VoiceLastMonth          0\n",
       "VoiceOverTenure         0\n",
       "EquipmentRental         0\n",
       "EquipmentLastMonth      0\n",
       "EquipmentOverTenure     0\n",
       "CallingCard             0\n",
       "WirelessData            0\n",
       "DataLastMonth           0\n",
       "DataOverTenure          0\n",
       "Multiline               0\n",
       "VM                      0\n",
       "Pager                   0\n",
       "Internet                0\n",
       "CallerID                0\n",
       "CallWait                0\n",
       "CallForward             0\n",
       "ThreeWayCalling         0\n",
       "EBilling                0\n",
       "TVWatchingHours         0\n",
       "OwnsPC                  0\n",
       "OwnsMobileDevice        0\n",
       "OwnsGameSystem          0\n",
       "OwnsFax                 0\n",
       "NewsSubscriber          0\n",
       "dtype: int64"
      ]
     },
     "metadata": {},
     "execution_count": 17
    }
   ],
   "source": [
    "df.isnull().sum()"
   ]
  },
  {
   "cell_type": "code",
   "execution_count": 18,
   "metadata": {},
   "outputs": [
    {
     "output_type": "execute_result",
     "data": {
      "text/plain": [
       "CustomerID              object\n",
       "RandID                   int64\n",
       "Region                   int64\n",
       "TownSize                object\n",
       "Gender                  object\n",
       "Age                      int64\n",
       "EducationYears           int64\n",
       "JobCategory             object\n",
       "UnionMember             object\n",
       "EmploymentLength         int64\n",
       "Retired                 object\n",
       "HHIncome                object\n",
       "DebtToIncomeRatio      float64\n",
       "CreditDebt             float64\n",
       "OtherDebt              float64\n",
       "LoanDefault             object\n",
       "MaritalStatus           object\n",
       "HouseholdSize          float64\n",
       "NumberPets             float64\n",
       "NumberCats             float64\n",
       "NumberDogs             float64\n",
       "NumberBirds            float64\n",
       "HomeOwner              float64\n",
       "CarsOwned                int64\n",
       "CarOwnership            object\n",
       "CarBrand                object\n",
       "CarValue                object\n",
       "CommuteTime             object\n",
       "PoliticalPartyMem       object\n",
       "Votes                   object\n",
       "CreditCard              object\n",
       "CardTenure               int64\n",
       "CardItemsMonthly         int64\n",
       "CardSpendMonth          object\n",
       "ActiveLifestyle         object\n",
       "PhoneCoTenure            int64\n",
       "VoiceLastMonth          object\n",
       "VoiceOverTenure         object\n",
       "EquipmentRental         object\n",
       "EquipmentLastMonth      object\n",
       "EquipmentOverTenure     object\n",
       "CallingCard             object\n",
       "WirelessData            object\n",
       "DataLastMonth           object\n",
       "DataOverTenure          object\n",
       "Multiline               object\n",
       "VM                      object\n",
       "Pager                   object\n",
       "Internet                object\n",
       "CallerID                object\n",
       "CallWait                object\n",
       "CallForward             object\n",
       "ThreeWayCalling         object\n",
       "EBilling                object\n",
       "TVWatchingHours          int64\n",
       "OwnsPC                  object\n",
       "OwnsMobileDevice        object\n",
       "OwnsGameSystem          object\n",
       "OwnsFax                 object\n",
       "NewsSubscriber          object\n",
       "dtype: object"
      ]
     },
     "metadata": {},
     "execution_count": 18
    }
   ],
   "source": [
    "#Checking customer data types\n",
    "df.dtypes"
   ]
  },
  {
   "cell_type": "code",
   "execution_count": 20,
   "metadata": {},
   "outputs": [
    {
     "output_type": "stream",
     "name": "stdout",
     "text": [
      "There are 5000 rows and 60 columns in the customer dataframe\n"
     ]
    }
   ],
   "source": [
    "#Dimensions of the data and investigate if there are any duplicate rows\n",
    "df.shape\n",
    "print(f'There are {df.shape[0]} rows and {df.shape[1]} columns in the customer dataframe')"
   ]
  },
  {
   "cell_type": "code",
   "execution_count": 21,
   "metadata": {},
   "outputs": [
    {
     "output_type": "execute_result",
     "data": {
      "text/plain": [
       "        CustomerID   RandID  Region TownSize  Gender  Age  EducationYears  \\\n",
       "0  3964-QJWTRG-NPN  1395460       1        2  Female   20              15   \n",
       "1  0648-AIPJSP-UVM  5892126       5        5    Male   22              17   \n",
       "2  5195-TLUDJE-HVO  3924533       3        4  Female   67              14   \n",
       "3  4459-VLPQUH-3OL  2941342       4        3    Male   23              16   \n",
       "4  8158-SMTQFB-CNO  3444746       2        2    Male   26              16   \n",
       "\n",
       "    JobCategory UnionMember  EmploymentLength  ... CallWait CallForward  \\\n",
       "0  Professional         Yes                 0  ...      Yes         Yes   \n",
       "1         Sales          No                 0  ...       No         Yes   \n",
       "2         Sales          No                16  ...       No          No   \n",
       "3         Sales          No                 0  ...       No          No   \n",
       "4         Sales          No                 1  ...      Yes         Yes   \n",
       "\n",
       "   ThreeWayCalling  EBilling  TVWatchingHours OwnsPC OwnsMobileDevice  \\\n",
       "0              Yes        No               13     No              Yes   \n",
       "1               No       Yes               18    Yes              Yes   \n",
       "2               No        No               21     No               No   \n",
       "3               No       Yes               26    Yes              Yes   \n",
       "4              Yes        No               27    Yes               No   \n",
       "\n",
       "   OwnsGameSystem  OwnsFax  NewsSubscriber  \n",
       "0             Yes       No              No  \n",
       "1             Yes      Yes             Yes  \n",
       "2              No       No             Yes  \n",
       "3             Yes       No             Yes  \n",
       "4             Yes       No              No  \n",
       "\n",
       "[5 rows x 60 columns]"
      ],
      "text/html": "<div>\n<style scoped>\n    .dataframe tbody tr th:only-of-type {\n        vertical-align: middle;\n    }\n\n    .dataframe tbody tr th {\n        vertical-align: top;\n    }\n\n    .dataframe thead th {\n        text-align: right;\n    }\n</style>\n<table border=\"1\" class=\"dataframe\">\n  <thead>\n    <tr style=\"text-align: right;\">\n      <th></th>\n      <th>CustomerID</th>\n      <th>RandID</th>\n      <th>Region</th>\n      <th>TownSize</th>\n      <th>Gender</th>\n      <th>Age</th>\n      <th>EducationYears</th>\n      <th>JobCategory</th>\n      <th>UnionMember</th>\n      <th>EmploymentLength</th>\n      <th>...</th>\n      <th>CallWait</th>\n      <th>CallForward</th>\n      <th>ThreeWayCalling</th>\n      <th>EBilling</th>\n      <th>TVWatchingHours</th>\n      <th>OwnsPC</th>\n      <th>OwnsMobileDevice</th>\n      <th>OwnsGameSystem</th>\n      <th>OwnsFax</th>\n      <th>NewsSubscriber</th>\n    </tr>\n  </thead>\n  <tbody>\n    <tr>\n      <th>0</th>\n      <td>3964-QJWTRG-NPN</td>\n      <td>1395460</td>\n      <td>1</td>\n      <td>2</td>\n      <td>Female</td>\n      <td>20</td>\n      <td>15</td>\n      <td>Professional</td>\n      <td>Yes</td>\n      <td>0</td>\n      <td>...</td>\n      <td>Yes</td>\n      <td>Yes</td>\n      <td>Yes</td>\n      <td>No</td>\n      <td>13</td>\n      <td>No</td>\n      <td>Yes</td>\n      <td>Yes</td>\n      <td>No</td>\n      <td>No</td>\n    </tr>\n    <tr>\n      <th>1</th>\n      <td>0648-AIPJSP-UVM</td>\n      <td>5892126</td>\n      <td>5</td>\n      <td>5</td>\n      <td>Male</td>\n      <td>22</td>\n      <td>17</td>\n      <td>Sales</td>\n      <td>No</td>\n      <td>0</td>\n      <td>...</td>\n      <td>No</td>\n      <td>Yes</td>\n      <td>No</td>\n      <td>Yes</td>\n      <td>18</td>\n      <td>Yes</td>\n      <td>Yes</td>\n      <td>Yes</td>\n      <td>Yes</td>\n      <td>Yes</td>\n    </tr>\n    <tr>\n      <th>2</th>\n      <td>5195-TLUDJE-HVO</td>\n      <td>3924533</td>\n      <td>3</td>\n      <td>4</td>\n      <td>Female</td>\n      <td>67</td>\n      <td>14</td>\n      <td>Sales</td>\n      <td>No</td>\n      <td>16</td>\n      <td>...</td>\n      <td>No</td>\n      <td>No</td>\n      <td>No</td>\n      <td>No</td>\n      <td>21</td>\n      <td>No</td>\n      <td>No</td>\n      <td>No</td>\n      <td>No</td>\n      <td>Yes</td>\n    </tr>\n    <tr>\n      <th>3</th>\n      <td>4459-VLPQUH-3OL</td>\n      <td>2941342</td>\n      <td>4</td>\n      <td>3</td>\n      <td>Male</td>\n      <td>23</td>\n      <td>16</td>\n      <td>Sales</td>\n      <td>No</td>\n      <td>0</td>\n      <td>...</td>\n      <td>No</td>\n      <td>No</td>\n      <td>No</td>\n      <td>Yes</td>\n      <td>26</td>\n      <td>Yes</td>\n      <td>Yes</td>\n      <td>Yes</td>\n      <td>No</td>\n      <td>Yes</td>\n    </tr>\n    <tr>\n      <th>4</th>\n      <td>8158-SMTQFB-CNO</td>\n      <td>3444746</td>\n      <td>2</td>\n      <td>2</td>\n      <td>Male</td>\n      <td>26</td>\n      <td>16</td>\n      <td>Sales</td>\n      <td>No</td>\n      <td>1</td>\n      <td>...</td>\n      <td>Yes</td>\n      <td>Yes</td>\n      <td>Yes</td>\n      <td>No</td>\n      <td>27</td>\n      <td>Yes</td>\n      <td>No</td>\n      <td>Yes</td>\n      <td>No</td>\n      <td>No</td>\n    </tr>\n  </tbody>\n</table>\n<p>5 rows × 60 columns</p>\n</div>"
     },
     "metadata": {},
     "execution_count": 21
    }
   ],
   "source": [
    "df.head()"
   ]
  },
  {
   "cell_type": "code",
   "execution_count": null,
   "metadata": {},
   "outputs": [],
   "source": []
  }
 ]
}